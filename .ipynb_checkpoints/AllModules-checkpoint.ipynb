{
 "cells": [
  {
   "cell_type": "code",
   "execution_count": 15,
   "id": "ec0d5e2c-7dff-4fdf-a858-feea3f10b299",
   "metadata": {},
   "outputs": [
    {
     "data": {
      "text/plain": [
       "'\\nIssues:\\n1. Noface count and multiple count for each frame happening\\n'"
      ]
     },
     "execution_count": 15,
     "metadata": {},
     "output_type": "execute_result"
    }
   ],
   "source": [
    "\"\"\"\n",
    "Issues:\n",
    "1. Noface count and multiple count for each frame happening\n",
    "\"\"\""
   ]
  },
  {
   "cell_type": "code",
   "execution_count": 16,
   "id": "f19125be-4634-4de8-a40f-59c098552eee",
   "metadata": {},
   "outputs": [],
   "source": [
    "import cv2\n",
    "from face_detector import get_face_detector, find_faces, draw_faces\n",
    "from face_landmarks import get_landmark_model, detect_marks, draw_marks\n",
    "from deepface import DeepFace\n",
    "import matplotlib.pyplot as plt"
   ]
  },
  {
   "cell_type": "code",
   "execution_count": 17,
   "id": "30aaf4df-e9a3-4e37-ad24-9f040181b88c",
   "metadata": {},
   "outputs": [],
   "source": [
    "def face_detection(frame):\n",
    "    \"\"\"\n",
    "    Outputs the image of detected face and alert_bool\n",
    "    \"\"\"\n",
    "    global noface_count\n",
    "    global multiple_faces_count\n",
    "    \n",
    "    face_model = get_face_detector()\n",
    "    alert_bool = False\n",
    "    \n",
    "    faces = find_faces(frame, face_model)\n",
    "    draw_faces(frame, faces)\n",
    "    \n",
    "    # Multiple faces detection\n",
    "    if len(faces)>1:\n",
    "        multiple_faces_count += 1\n",
    "        alert_bool = True\n",
    "        cv2.putText(frame, 'Alert! multiple faces detected for '+str(multiple_faces_count)+' times', (30, 30), font,\n",
    "                    1, (0, 255, 255), 2)\n",
    "    # Absence of any face detection\n",
    "    elif len(faces)==0:\n",
    "        noface_count+=1\n",
    "        alert_bool = True\n",
    "        cv2.putText(frame, 'Alert! No faces detected for '+str(noface_count)+' times', (30, 30), font,\n",
    "                    1, (0, 255, 255), 2)\n",
    "    else:\n",
    "        return alert_bool, faces[0]   \n",
    "    \n",
    "    return alert_bool, faces   "
   ]
  },
  {
   "cell_type": "code",
   "execution_count": 18,
   "id": "7fd4f810-0046-4cd2-97b5-aaead85393ee",
   "metadata": {},
   "outputs": [],
   "source": [
    "def face_verification(frame):\n",
    "    global failed_verif_count\n",
    "    result =  DeepFace.verify(frame, user_pic, enforce_detection = False)\n",
    "    alert_bool = not result[\"verified\"]\n",
    "    if not alert_bool:\n",
    "        cv2.putText(frame, 'You are verified', (30, 30), font, 1, (0, 255, 255), 2)\n",
    "    else:\n",
    "        failed_verif_count += 1\n",
    "        cv2.putText(frame, 'Alert! You are not the actual user: '+str(failed_verif_count), (30, 30), font, 1, (0, 255, 255), 2)\n",
    "    return alert_bool"
   ]
  },
  {
   "cell_type": "code",
   "execution_count": 19,
   "id": "df44f2d4-6c14-42fb-854e-adc3e7bacbf0",
   "metadata": {},
   "outputs": [],
   "source": [
    "def facial_landmarks_detection(frame, face, draw= False):\n",
    "    landmark_model = get_landmark_model()\n",
    "    shape = detect_marks(frame, landmark_model, face)\n",
    "    if draw:\n",
    "        draw_marks(frame, shape)\n",
    "    return shape"
   ]
  },
  {
   "cell_type": "code",
   "execution_count": 20,
   "id": "47386dbb-e78e-486e-bf7a-87f97cec1d36",
   "metadata": {},
   "outputs": [],
   "source": [
    "user_pic = cv2.imread(\"db/Anirudh_Simhachalam.jpg\")\n",
    "noface_count = 0\n",
    "multiple_faces_count = 0\n",
    "failed_verif_count = 0\n",
    "font = cv2.FONT_HERSHEY_SIMPLEX \n",
    "\n",
    "cap = cv2.VideoCapture(0)"
   ]
  },
  {
   "cell_type": "code",
   "execution_count": 21,
   "id": "58be2877-3649-451a-8414-56e1648ce587",
   "metadata": {
    "tags": []
   },
   "outputs": [],
   "source": [
    "while(True):\n",
    "    # Video capture frame by frame\n",
    "    ret, frame = cap.read()\n",
    "    \n",
    "    #Faces detection\n",
    "    alert_bool, face =  face_detection(frame)\n",
    "    \n",
    "    if not alert_bool:       #Only if single face detected\n",
    "        # Face verification\n",
    "        alert_bool = face_verification(frame)\n",
    "        if not alert_bool:   #Only if face is verified\n",
    "            # Facial landmarks detection\n",
    "            shape = facial_landmarks_detection(frame, face, draw = True)\n",
    "\n",
    "    cv2.imshow(\"Output\", frame)\n",
    "            \n",
    "    k = cv2.waitKey(30) & 0xff\n",
    "    if k==27:\n",
    "        break\n",
    "cap.release()\n",
    "cv2.destroyAllWindows()"
   ]
  }
 ],
 "metadata": {
  "kernelspec": {
   "display_name": "Python 3 (ipykernel)",
   "language": "python",
   "name": "python3"
  },
  "language_info": {
   "codemirror_mode": {
    "name": "ipython",
    "version": 3
   },
   "file_extension": ".py",
   "mimetype": "text/x-python",
   "name": "python",
   "nbconvert_exporter": "python",
   "pygments_lexer": "ipython3",
   "version": "3.8.11"
  }
 },
 "nbformat": 4,
 "nbformat_minor": 5
}
