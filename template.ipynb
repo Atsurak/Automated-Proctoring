{
 "cells": [
  {
   "cell_type": "code",
   "execution_count": 1,
   "id": "e6785e9b-fca3-4015-bc2d-0a7527f928b3",
   "metadata": {},
   "outputs": [],
   "source": [
    "import cv2\n",
    "from face_detector import get_face_detector, find_faces, draw_faces\n",
    "from face_landmarks import get_landmark_model, detect_marks, draw_marks"
   ]
  },
  {
   "cell_type": "code",
   "execution_count": 2,
   "id": "2b881dcd-7bc8-4d0b-8d81-9b4e092349ae",
   "metadata": {},
   "outputs": [],
   "source": [
    "def face_detection(frame, draw = False):\n",
    "    \"\"\"\n",
    "    Outputs the image of detected face and alert_bool\n",
    "    \"\"\"\n",
    "    global noface_count\n",
    "    global multiple_faces_count\n",
    "    \n",
    "    face_model = get_face_detector()\n",
    "    alert_bool = False\n",
    "    \n",
    "    faces = find_faces(frame, face_model)\n",
    "    if draw:\n",
    "        draw_faces(frame, faces)\n",
    "    \n",
    "    # Multiple faces detection\n",
    "    if len(faces)>1:\n",
    "        multiple_faces_count += 1\n",
    "        alert_bool = True\n",
    "        cv2.putText(frame, 'Alert! multiple faces detected for '+str(multiple_faces_count)+' times', (30, 30), font,\n",
    "                    1, (0, 255, 255), 2)\n",
    "    # Absence of any face detection\n",
    "    elif len(faces)==0:\n",
    "        noface_count+=1\n",
    "        alert_bool = True\n",
    "        cv2.putText(frame, 'Alert! No faces detected for '+str(noface_count)+' times', (30, 30), font,\n",
    "                    1, (0, 255, 255), 2)\n",
    "    else:\n",
    "        return alert_bool, faces[0]   \n",
    "    \n",
    "    return alert_bool, faces   "
   ]
  },
  {
   "cell_type": "code",
   "execution_count": 3,
   "id": "74ea312c-39e8-4676-bb4a-aea2e7a8dd46",
   "metadata": {},
   "outputs": [],
   "source": [
    "def facial_landmarks_detection(frame, face, draw= False):\n",
    "    landmark_model = get_landmark_model()\n",
    "    shape = detect_marks(frame, landmark_model, face)\n",
    "    if draw:\n",
    "        draw_marks(frame, shape)\n",
    "    return shape"
   ]
  },
  {
   "cell_type": "code",
   "execution_count": 4,
   "id": "2d97bcd8-f9e6-4281-97cb-64778cf987ef",
   "metadata": {},
   "outputs": [],
   "source": [
    "# def mouth_tracker() or eye_tracker or.... !!!!!!!!!!!!!!!!!!!!!!!!!!!!!!!!!!!!!!!!!!!!!!!!!!!!!"
   ]
  },
  {
   "cell_type": "code",
   "execution_count": 5,
   "id": "adf20e9d-b742-4948-a78a-8ae88aa838b5",
   "metadata": {},
   "outputs": [],
   "source": [
    "noface_count = 0\n",
    "multiple_faces_count = 0\n",
    "failed_verif_count = 0\n",
    "\n",
    "font = cv2.FONT_HERSHEY_SIMPLEX \n",
    "cap = cv2.VideoCapture(0)"
   ]
  },
  {
   "cell_type": "code",
   "execution_count": 6,
   "id": "3224fa49-8c04-490a-9dc3-b654e14dcaca",
   "metadata": {},
   "outputs": [
    {
     "name": "stdout",
     "output_type": "stream",
     "text": [
      "WARNING:tensorflow:Unable to create a python object for variable <tf.Variable 'global_step:0' shape=() dtype=int64_ref> because it is a reference variable. It may not be visible to training APIs. If this is a problem, consider rebuilding the SavedModel after running tf.compat.v1.enable_resource_variables().\n",
      "WARNING:tensorflow:Unable to create a python object for variable <tf.Variable 'layer1/conv2d/kernel:0' shape=(3, 3, 3, 32) dtype=float32_ref> because it is a reference variable. It may not be visible to training APIs. If this is a problem, consider rebuilding the SavedModel after running tf.compat.v1.enable_resource_variables().\n",
      "WARNING:tensorflow:Unable to create a python object for variable <tf.Variable 'layer1/conv2d/bias:0' shape=(32,) dtype=float32_ref> because it is a reference variable. It may not be visible to training APIs. If this is a problem, consider rebuilding the SavedModel after running tf.compat.v1.enable_resource_variables().\n",
      "WARNING:tensorflow:Unable to create a python object for variable <tf.Variable 'layer2/conv2d/kernel:0' shape=(3, 3, 32, 64) dtype=float32_ref> because it is a reference variable. It may not be visible to training APIs. If this is a problem, consider rebuilding the SavedModel after running tf.compat.v1.enable_resource_variables().\n",
      "WARNING:tensorflow:Unable to create a python object for variable <tf.Variable 'layer2/conv2d/bias:0' shape=(64,) dtype=float32_ref> because it is a reference variable. It may not be visible to training APIs. If this is a problem, consider rebuilding the SavedModel after running tf.compat.v1.enable_resource_variables().\n",
      "WARNING:tensorflow:Unable to create a python object for variable <tf.Variable 'global_step:0' shape=() dtype=int64_ref> because it is a reference variable. It may not be visible to training APIs. If this is a problem, consider rebuilding the SavedModel after running tf.compat.v1.enable_resource_variables().\n",
      "WARNING:tensorflow:Unable to create a python object for variable <tf.Variable 'layer1/conv2d/kernel:0' shape=(3, 3, 3, 32) dtype=float32_ref> because it is a reference variable. It may not be visible to training APIs. If this is a problem, consider rebuilding the SavedModel after running tf.compat.v1.enable_resource_variables().\n",
      "WARNING:tensorflow:Unable to create a python object for variable <tf.Variable 'layer1/conv2d/bias:0' shape=(32,) dtype=float32_ref> because it is a reference variable. It may not be visible to training APIs. If this is a problem, consider rebuilding the SavedModel after running tf.compat.v1.enable_resource_variables().\n",
      "WARNING:tensorflow:Unable to create a python object for variable <tf.Variable 'layer2/conv2d/kernel:0' shape=(3, 3, 32, 64) dtype=float32_ref> because it is a reference variable. It may not be visible to training APIs. If this is a problem, consider rebuilding the SavedModel after running tf.compat.v1.enable_resource_variables().\n",
      "WARNING:tensorflow:Unable to create a python object for variable <tf.Variable 'layer2/conv2d/bias:0' shape=(64,) dtype=float32_ref> because it is a reference variable. It may not be visible to training APIs. If this is a problem, consider rebuilding the SavedModel after running tf.compat.v1.enable_resource_variables().\n",
      "WARNING:tensorflow:Unable to create a python object for variable <tf.Variable 'global_step:0' shape=() dtype=int64_ref> because it is a reference variable. It may not be visible to training APIs. If this is a problem, consider rebuilding the SavedModel after running tf.compat.v1.enable_resource_variables().\n",
      "WARNING:tensorflow:Unable to create a python object for variable <tf.Variable 'layer1/conv2d/kernel:0' shape=(3, 3, 3, 32) dtype=float32_ref> because it is a reference variable. It may not be visible to training APIs. If this is a problem, consider rebuilding the SavedModel after running tf.compat.v1.enable_resource_variables().\n",
      "WARNING:tensorflow:Unable to create a python object for variable <tf.Variable 'layer1/conv2d/bias:0' shape=(32,) dtype=float32_ref> because it is a reference variable. It may not be visible to training APIs. If this is a problem, consider rebuilding the SavedModel after running tf.compat.v1.enable_resource_variables().\n",
      "WARNING:tensorflow:Unable to create a python object for variable <tf.Variable 'layer2/conv2d/kernel:0' shape=(3, 3, 32, 64) dtype=float32_ref> because it is a reference variable. It may not be visible to training APIs. If this is a problem, consider rebuilding the SavedModel after running tf.compat.v1.enable_resource_variables().\n",
      "WARNING:tensorflow:Unable to create a python object for variable <tf.Variable 'layer2/conv2d/bias:0' shape=(64,) dtype=float32_ref> because it is a reference variable. It may not be visible to training APIs. If this is a problem, consider rebuilding the SavedModel after running tf.compat.v1.enable_resource_variables().\n",
      "WARNING:tensorflow:Unable to create a python object for variable <tf.Variable 'global_step:0' shape=() dtype=int64_ref> because it is a reference variable. It may not be visible to training APIs. If this is a problem, consider rebuilding the SavedModel after running tf.compat.v1.enable_resource_variables().\n",
      "WARNING:tensorflow:Unable to create a python object for variable <tf.Variable 'layer1/conv2d/kernel:0' shape=(3, 3, 3, 32) dtype=float32_ref> because it is a reference variable. It may not be visible to training APIs. If this is a problem, consider rebuilding the SavedModel after running tf.compat.v1.enable_resource_variables().\n",
      "WARNING:tensorflow:Unable to create a python object for variable <tf.Variable 'layer1/conv2d/bias:0' shape=(32,) dtype=float32_ref> because it is a reference variable. It may not be visible to training APIs. If this is a problem, consider rebuilding the SavedModel after running tf.compat.v1.enable_resource_variables().\n",
      "WARNING:tensorflow:Unable to create a python object for variable <tf.Variable 'layer2/conv2d/kernel:0' shape=(3, 3, 32, 64) dtype=float32_ref> because it is a reference variable. It may not be visible to training APIs. If this is a problem, consider rebuilding the SavedModel after running tf.compat.v1.enable_resource_variables().\n",
      "WARNING:tensorflow:Unable to create a python object for variable <tf.Variable 'layer2/conv2d/bias:0' shape=(64,) dtype=float32_ref> because it is a reference variable. It may not be visible to training APIs. If this is a problem, consider rebuilding the SavedModel after running tf.compat.v1.enable_resource_variables().\n"
     ]
    }
   ],
   "source": [
    "while(True):\n",
    "    # Video capture frame by frame\n",
    "    ret, frame = cap.read()\n",
    "    \n",
    "    #Faces detection\n",
    "    alert_bool, face =  face_detection(frame)\n",
    "    \n",
    "    if not alert_bool:       #Only if single face detected\n",
    "            # Facial landmarks detection\n",
    "            shape = facial_landmarks_detection(frame, face, draw = True)\n",
    "            \n",
    "            #Your detection!!!!!!!!!!!!!!!!!!!!!!!!!!!!!!!!!!!!!!!!!!!!!!!!!!!!!\n",
    "            \n",
    "    cv2.imshow(\"Output\", frame)\n",
    "            \n",
    "    k = cv2.waitKey(30) & 0xff\n",
    "    if k==27:\n",
    "        break\n",
    "cap.release()\n",
    "cv2.destroyAllWindows()"
   ]
  }
 ],
 "metadata": {
  "kernelspec": {
   "display_name": "Python 3 (ipykernel)",
   "language": "python",
   "name": "python3"
  },
  "language_info": {
   "codemirror_mode": {
    "name": "ipython",
    "version": 3
   },
   "file_extension": ".py",
   "mimetype": "text/x-python",
   "name": "python",
   "nbconvert_exporter": "python",
   "pygments_lexer": "ipython3",
   "version": "3.8.11"
  }
 },
 "nbformat": 4,
 "nbformat_minor": 5
}
