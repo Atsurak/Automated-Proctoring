{
 "cells": [
  {
   "cell_type": "code",
   "execution_count": 1,
   "id": "f19125be-4634-4de8-a40f-59c098552eee",
   "metadata": {},
   "outputs": [],
   "source": [
    "from face_recog import Face_recog\n",
    "from imutils import face_utils\n",
    "import time\n",
    "import matplotlib.pyplot as plt\n",
    "import mediapipe as mp\n",
    "import cv2\n",
    "import dlib"
   ]
  },
  {
   "cell_type": "code",
   "execution_count": 2,
   "id": "dcf4e6ab-10ca-494b-ad81-6b7d9db7e70e",
   "metadata": {},
   "outputs": [],
   "source": [
    "def print_fps(frame):\n",
    "    global pTime\n",
    "    cTime = time.time()\n",
    "    fps = 1/(cTime - pTime)\n",
    "    pTime = cTime\n",
    "    cv2.putText(frame, f\"FPS: {int(fps)}\", (60, 70), font, 3, (0,255,0), 2)\n",
    "    return frame"
   ]
  },
  {
   "cell_type": "code",
   "execution_count": 3,
   "id": "b8161a25-4308-4d50-875e-9f119291346b",
   "metadata": {},
   "outputs": [],
   "source": [
    "def face_detection(frame, draw = True, score= False):\n",
    "    \"\"\"\n",
    "    Outputs the image of detected face and alert_bool\n",
    "    \"\"\"\n",
    "    global noface_count\n",
    "    global multiple_faces_count\n",
    "    alert_bool = False\n",
    "    bbox_ret = []\n",
    "    mp_face_detection = mp.solutions.face_detection\n",
    "    mp_drawing = mp.solutions.drawing_utils\n",
    "    \n",
    "    with mp_face_detection.FaceDetection(model_selection=0, min_detection_confidence=0.5) as face_detector:\n",
    "        \n",
    "        # To improve performance, optionally mark the frame as not writeable to\n",
    "        # pass by reference.\n",
    "        frame.flags.writeable = False\n",
    "        frame = cv2.cvtColor(frame, cv2.COLOR_BGR2RGB)\n",
    "        \n",
    "        #Face detection:\n",
    "        results = face_detector.process(frame)\n",
    "        frame.flags.writeable = True\n",
    "        frame = cv2.cvtColor(frame, cv2.COLOR_RGB2BGR)\n",
    "            \n",
    "    # Absence of any face detection\n",
    "    if not results.detections:\n",
    "        noface_count+=1\n",
    "        alert_bool = True\n",
    "        cv2.putText(frame, 'Alert! No faces detected for '+str(noface_count)+' times', (30, 30), font, 1, (0, 255, 255), 2)\n",
    "    # Multiple faces detection\n",
    "    elif len(results.detections)>1:\n",
    "        multiple_faces_count += 1\n",
    "        alert_bool = True\n",
    "        cv2.putText(frame, 'Alert! multiple faces detected for '+str(multiple_faces_count)+' times', (30, 30), font, 1, (0, 255, 255), 2)\n",
    "    else:\n",
    "        # bbox return for the single face:\n",
    "        for id, detection in enumerate(results.detections):\n",
    "            bbox_ret = detection.location_data.relative_bounding_box\n",
    "            ih, iw, ic = frame.shape\n",
    "            bbox_ret = int(bbox_ret.xmin * iw), int(bbox_ret.ymin * ih), int(bbox_ret.width * iw), int(bbox_ret.height * ih)\n",
    "            \n",
    "    # Draw the face detection annotations on the frame.\n",
    "        if draw:\n",
    "            if results.detections:\n",
    "                for id, detection in enumerate(results.detections):\n",
    "                    bboxC = detection.location_data.relative_bounding_box\n",
    "                    ih, iw, ic = frame.shape\n",
    "                    bbox = int(bboxC.xmin * iw), int(bboxC.ymin * ih), int(bboxC.width * iw), int(bboxC.height * ih)\n",
    "                    cv2.rectangle(frame, bbox, (255, 0, 255), 2)\n",
    "                    if score:\n",
    "                        cv2.putText(frame, f'{int(detection.score[0] * 100)}%', (bbox[0], bbox[1] - 20), cv2.FONT_HERSHEY_PLAIN, 2, (255, 0, 255), 2)\n",
    "    \n",
    "    \n",
    "    \n",
    "    return alert_bool, frame, bbox_ret"
   ]
  },
  {
   "cell_type": "code",
   "execution_count": 4,
   "id": "53784fc0-8427-4b53-82b2-314268a17951",
   "metadata": {},
   "outputs": [],
   "source": [
    "def face_recognition(frame, fr, bbox):\n",
    "    global failed_verif_count\n",
    "    \n",
    "    # Detect and recognise Faces\n",
    "    face_locations, face_names = fr.detect_known_faces(frame)\n",
    "    \n",
    "    #Draw box and name\n",
    "    for face_loc, name in zip(face_locations, face_names):\n",
    "        cv2.putText(frame, name, (bbox[0], bbox[1] - 20), cv2.FONT_HERSHEY_PLAIN, 2, (255, 0, 255), 2)\n",
    "        \n",
    "\n",
    "    alert_bool = not face_names\n",
    "    if not alert_bool:\n",
    "        cv2.putText(frame, 'You are verified', (30, 30), font, 1, (0, 255, 255), 2)\n",
    "    else:\n",
    "        failed_verif_count += 1\n",
    "        cv2.putText(frame, 'Alert! You are not the actual user: '+str(failed_verif_count), (30, 30), font, 1, (0, 255, 255), 2)\n",
    "        \n",
    "    return alert_bool"
   ]
  },
  {
   "cell_type": "code",
   "execution_count": 5,
   "id": "68a30e28-12da-4d9e-93e8-e7b35e6d34f7",
   "metadata": {},
   "outputs": [],
   "source": [
    "def facial_landmarks_detection(frame, draw= True):\n",
    "    # detect faces in the grayscale image\n",
    "    gray = cv2.cvtColor(frame, cv2.COLOR_BGR2GRAY)   \n",
    "    rects = detector(gray, 0)\n",
    "    shape = \"\"\n",
    "    \n",
    "    # loop over the face detections\n",
    "    for (i, rect) in enumerate(rects):\n",
    "        # determine the facial landmarks for the face region, then\n",
    "        # convert the facial landmark (x, y)-coordinates to a NumPy\n",
    "        # array\n",
    "        shape = predictor(gray, rect)\n",
    "        shape = face_utils.shape_to_np(shape)\n",
    "    \n",
    "        # loop over the (x, y)-coordinates for the facial landmarks\n",
    "        # and draw them on the frame\n",
    "        if draw:\n",
    "            for (x, y) in shape:\n",
    "                cv2.circle(frame, (x, y), 2, (0, 255, 0), -1)\n",
    "    return shape"
   ]
  },
  {
   "cell_type": "code",
   "execution_count": 6,
   "id": "47386dbb-e78e-486e-bf7a-87f97cec1d36",
   "metadata": {},
   "outputs": [
    {
     "name": "stdout",
     "output_type": "stream",
     "text": [
      "2 encoding images found.\n",
      "Encoding images loaded\n"
     ]
    }
   ],
   "source": [
    "# Face recognizer\n",
    "fr = Face_recog()\n",
    "fr.load_encoding_images(\"db/\")\n",
    "\n",
    "# Facial landmarks predictor\n",
    "saved_model = \"models/shape_predictor_68_face_landmarks.dat\"\n",
    "detector = dlib.get_frontal_face_detector()\n",
    "predictor = dlib.shape_predictor(saved_model)\n",
    "\n",
    "noface_count = 0\n",
    "multiple_faces_count = 0\n",
    "failed_verif_count = 0\n",
    "pTime = 0\n",
    "font = cv2.FONT_HERSHEY_PLAIN "
   ]
  },
  {
   "cell_type": "code",
   "execution_count": 7,
   "id": "8f0c9c75-3f07-4e8a-86f2-dfcf57003453",
   "metadata": {},
   "outputs": [],
   "source": [
    "def main():\n",
    "    cap = cv2.VideoCapture(0)\n",
    "    while(True):\n",
    "        # Video capture frame by frame\n",
    "        ret, frame = cap.read()\n",
    "        \n",
    "        #Faces detection\n",
    "        alert_bool, frame, bbox =  face_detection(frame)\n",
    "        \n",
    "        #Only if single face detected\n",
    "        if not alert_bool:    \n",
    "            \n",
    "            #Face verification\n",
    "            alert_bool = face_recognition(frame, fr, bbox)\n",
    "            \n",
    "            #Only if face is verified\n",
    "            if not alert_bool:   \n",
    "                \n",
    "                # Facial landmarks detection\n",
    "                shape = facial_landmarks_detection(frame)\n",
    "    \n",
    "        cv2.imshow('MediaPipe Face Detection', print_fps(frame) ) #cv2.flip(frame, 1)\n",
    "                \n",
    "        if cv2.waitKey(1) & 0xFF == 27:\n",
    "            break\n",
    "    cap.release()\n",
    "    cv2.destroyAllWindows()\n",
    "    return"
   ]
  },
  {
   "cell_type": "code",
   "execution_count": 8,
   "id": "58be2877-3649-451a-8414-56e1648ce587",
   "metadata": {
    "tags": []
   },
   "outputs": [],
   "source": [
    "if __name__ == \"__main__\":\n",
    "    main()\n",
    "    exit()"
   ]
  }
 ],
 "metadata": {
  "kernelspec": {
   "display_name": "Python 3 (ipykernel)",
   "language": "python",
   "name": "python3"
  },
  "language_info": {
   "codemirror_mode": {
    "name": "ipython",
    "version": 3
   },
   "file_extension": ".py",
   "mimetype": "text/x-python",
   "name": "python",
   "nbconvert_exporter": "python",
   "pygments_lexer": "ipython3",
   "version": "3.8.11"
  }
 },
 "nbformat": 4,
 "nbformat_minor": 5
}
