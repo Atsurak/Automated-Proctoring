{
 "cells": [
  {
   "cell_type": "code",
   "execution_count": 11,
   "id": "cd4c3031-3d21-4036-ad4e-ec2e6eb4681a",
   "metadata": {},
   "outputs": [
    {
     "data": {
      "text/plain": [
       "'\\nIssues:\\n1. Noface count and multiple count for each frame happening\\n'"
      ]
     },
     "execution_count": 11,
     "metadata": {},
     "output_type": "execute_result"
    }
   ],
   "source": [
    "\"\"\"\n",
    "Issues:\n",
    "1. Noface count and multiple count for each frame happening\n",
    "\"\"\""
   ]
  },
  {
   "cell_type": "code",
   "execution_count": 10,
   "id": "58151aea-3cfd-49b4-b5a1-83603ba00605",
   "metadata": {},
   "outputs": [
    {
     "ename": "ModuleNotFoundError",
     "evalue": "No module named 'deepface'",
     "output_type": "error",
     "traceback": [
      "\u001b[1;31m---------------------------------------------------------------------------\u001b[0m",
      "\u001b[1;31mModuleNotFoundError\u001b[0m                       Traceback (most recent call last)",
      "\u001b[1;32m<ipython-input-10-2b774d906764>\u001b[0m in \u001b[0;36m<module>\u001b[1;34m\u001b[0m\n\u001b[0;32m      2\u001b[0m \u001b[1;32mfrom\u001b[0m \u001b[0mface_detector\u001b[0m \u001b[1;32mimport\u001b[0m \u001b[0mget_face_detector\u001b[0m\u001b[1;33m,\u001b[0m \u001b[0mfind_faces\u001b[0m\u001b[1;33m,\u001b[0m \u001b[0mdraw_faces\u001b[0m\u001b[1;33m\u001b[0m\u001b[1;33m\u001b[0m\u001b[0m\n\u001b[0;32m      3\u001b[0m \u001b[1;32mfrom\u001b[0m \u001b[0mface_landmarks\u001b[0m \u001b[1;32mimport\u001b[0m \u001b[0mget_landmark_model\u001b[0m\u001b[1;33m,\u001b[0m \u001b[0mdetect_marks\u001b[0m\u001b[1;33m,\u001b[0m \u001b[0mdraw_marks\u001b[0m\u001b[1;33m\u001b[0m\u001b[1;33m\u001b[0m\u001b[0m\n\u001b[1;32m----> 4\u001b[1;33m \u001b[1;32mfrom\u001b[0m \u001b[0mdeepface\u001b[0m \u001b[1;32mimport\u001b[0m \u001b[0mDeepFace\u001b[0m\u001b[1;33m\u001b[0m\u001b[1;33m\u001b[0m\u001b[0m\n\u001b[0m\u001b[0;32m      5\u001b[0m \u001b[1;32mimport\u001b[0m \u001b[0mmatplotlib\u001b[0m\u001b[1;33m.\u001b[0m\u001b[0mpyplot\u001b[0m \u001b[1;32mas\u001b[0m \u001b[0mplt\u001b[0m\u001b[1;33m\u001b[0m\u001b[1;33m\u001b[0m\u001b[0m\n",
      "\u001b[1;31mModuleNotFoundError\u001b[0m: No module named 'deepface'"
     ]
    }
   ],
   "source": [
    "import cv2\n",
    "from face_detector import get_face_detector, find_faces, draw_faces\n",
    "from face_landmarks import get_landmark_model, detect_marks, draw_marks\n",
    "from deepface import DeepFace\n",
    "import matplotlib.pyplot as plt"
   ]
  },
  {
   "cell_type": "code",
   "execution_count": null,
   "id": "893eccea-a98f-4a2b-bc35-388e2aa1ad16",
   "metadata": {},
   "outputs": [],
   "source": [
    "noface_count = 0\n",
    "multiple_faces_count = 0"
   ]
  },
  {
   "cell_type": "code",
   "execution_count": null,
   "id": "43cd833e-30d2-4e3b-846e-71b193eaa918",
   "metadata": {},
   "outputs": [],
   "source": [
    "def face_detection(frame):\n",
    "    \"\"\"\n",
    "    Outputs the image of detected face and alert_bool\n",
    "    \"\"\"\n",
    "    face_model = get_face_detector()\n",
    "    alert_bool = False\n",
    "    faces = find_faces(frame, face_model)\n",
    "    \n",
    "    # Multiple faces detection\n",
    "    if len(faces)>1:\n",
    "        multiple_faces_count += 1\n",
    "        alert_bool = True\n",
    "        cv2.putText(frame, 'Alert! multiple faces detected for '+str(multiple_faces_count)+' times', (30, 30), font,\n",
    "                    1, (0, 255, 255), 2)\n",
    "    # Absence of any face detection\n",
    "    elif len(faces)==0:\n",
    "        noface_count+=1\n",
    "        alert_bool = True\n",
    "        cv2.putText(frame, 'Alert! No faces detected for '+str(noface_count)+' times', (30, 30), font,\n",
    "                    1, (0, 255, 255), 2)\n",
    "    \n",
    "    draw_faces(frame, faces)\n",
    "    return alert_bool, faces[0]"
   ]
  },
  {
   "cell_type": "code",
   "execution_count": null,
   "id": "8fd5687d-de7c-4f66-9ae1-f99450a613e2",
   "metadata": {},
   "outputs": [],
   "source": [
    "def facial_landmarks_detection(frame, face, draw= False):\n",
    "    landmark_model = get_landmark_model()\n",
    "    shape = detect_marks(frame, landmark_model, face)\n",
    "    if draw:\n",
    "        draw_marks(frame, shape)\n",
    "    return shape"
   ]
  },
  {
   "cell_type": "code",
   "execution_count": null,
   "id": "4f2521a0-d62e-4e07-86e9-e455c032d3c9",
   "metadata": {},
   "outputs": [],
   "source": [
    "def face_verification(frame,face):\n",
    "    cv2.imwrite(\"db/temp.jpg\", frame)\n",
    "    img1_path = \"db/temp.jpg\" ; img2_path = \"db/Abhinav_Kathuri.jpg\"\n",
    "    Face_recognition_model = \"Face_net\"\n",
    "    result =  DeepFace.verify(img1_path = img1_path, img2_path = img2_path, model_name = Face_recognition_model)\n",
    "    alert_bool = not result[\"verified\"]\n",
    "    if not alert_bool:\n",
    "        cv2.putText(frame, 'You are verified', (30, 30), font, 1, (0, 255, 255), 2)\n",
    "    return alert_bool, frame  "
   ]
  },
  {
   "cell_type": "code",
   "execution_count": null,
   "id": "0aa79162-4cbb-4ed9-8edf-ea7710da743b",
   "metadata": {},
   "outputs": [],
   "source": [
    "while(True):\n",
    "    # Video capture frame by frame\n",
    "    ret, frame = cap.read()\n",
    "\n",
    "    # Faces detection\n",
    "    alert_bool, face =  face_detection(frame)     \n",
    "    \n",
    "    # Only if single face detected\n",
    "    if not alert_bool: \n",
    "        \n",
    "        # Face verification\n",
    "        alert_bool, frame = face_verification(frame, face)\n",
    "        if not alert_bool:\n",
    "            # Facial landmarks detection\n",
    "            shape = facial_landmarks_detection(frame, face, draw = True)\n",
    "        else:\n",
    "            cv2.putText(frame, 'Make sure you are visible clearly on camera.', (30, 30), font, 1, (0, 255, 255), 2)\n",
    "            \n",
    "    cv2.imshow(\"Output\", img)\n",
    "\n",
    "cv2.destroyAllWindows()"
   ]
  }
 ],
 "metadata": {
  "kernelspec": {
   "display_name": "Python 3",
   "language": "python",
   "name": "python3"
  },
  "language_info": {
   "codemirror_mode": {
    "name": "ipython",
    "version": 3
   },
   "file_extension": ".py",
   "mimetype": "text/x-python",
   "name": "python",
   "nbconvert_exporter": "python",
   "pygments_lexer": "ipython3",
   "version": "3.6.13"
  }
 },
 "nbformat": 4,
 "nbformat_minor": 5
}
